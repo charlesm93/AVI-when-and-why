{
 "cells": [
  {
   "attachments": {},
   "cell_type": "markdown",
   "id": "70d79e79",
   "metadata": {},
   "source": [
    "# Linear Probabilistic Model "
   ]
  },
  {
   "cell_type": "code",
   "execution_count": 1,
   "id": "ef3816a5",
   "metadata": {},
   "outputs": [],
   "source": [
    "import numpy as np\n",
    "import torch\n",
    "import matplotlib.pyplot as plt\n",
    "from torch.autograd import Variable\n",
    "%matplotlib inline\n",
    "plt.style.use('ggplot')\n",
    "from scipy.stats import norm\n",
    "import time\n"
   ]
  },
  {
   "cell_type": "code",
   "execution_count": 2,
   "id": "1fa6fd43",
   "metadata": {},
   "outputs": [],
   "source": [
    "device = torch.device(\"cuda:0\" if torch.cuda.is_available() else \"cpu\")"
   ]
  },
  {
   "cell_type": "code",
   "execution_count": 3,
   "id": "d3b16660",
   "metadata": {},
   "outputs": [],
   "source": [
    "seed = 2001"
   ]
  },
  {
   "attachments": {},
   "cell_type": "markdown",
   "id": "9a789983",
   "metadata": {},
   "source": [
    "## Normal-normal model\n",
    "We start with a normal model,\n",
    "\\begin{eqnarray*}\n",
    "  p(\\theta) & \\propto & 1, \\\\\n",
    "  p(z_i) & = & \\text{normal}(0, 1), \\\\\n",
    "  \\Omega_\\mu (z_i, \\theta) & = & \\theta + \\tau z_i, \\\\\n",
    "  p(x_i \\mid z_i, \\theta) & = & \\text{normal}(\\Omega_\\mu(z_i, \\theta), \\sigma^2),\n",
    "\\end{eqnarray*}\n",
    "with latent variables $(\\theta, z_{1:n})$. This model admits a (non-trivial) analytical expression for the posterior distribution, which is a multivariate Gaussian."
   ]
  },
  {
   "cell_type": "code",
   "execution_count": 4,
   "id": "01bc22c1",
   "metadata": {},
   "outputs": [],
   "source": [
    "# Generate observations from a linear probabilistic model (i.e. normal-normal hierarchical).\n",
    "n = 10000\n",
    "tau = 1.155\n",
    "sigma = 2.43\n",
    "x = np.random.normal(size = (n, 1), scale = np.sqrt(tau**2 + sigma**2))"
   ]
  },
  {
   "cell_type": "code",
   "execution_count": 5,
   "id": "99c742cb",
   "metadata": {},
   "outputs": [],
   "source": [
    "def vi_init(seed, lock_init = True):\n",
    "    # NOTE: it seems torch \"updates\" these values once they're passed to a model,\n",
    "    # so we need to generate the inits multiple times (with the same seed)\n",
    "    torch.manual_seed(seed)\n",
    "    nu_mean_theta = torch.randn(1)\n",
    "    nu_sd_theta_log = torch.randn(1)\n",
    "    alpha0 = torch.randn(1)  # torch.zeros(1)\n",
    "    alpha = torch.randn(1)   # torch.zeros(1)\n",
    "    xi_log = torch.randn(1)  # torch.zeros(1)\n",
    "\n",
    "    if (lock_init):\n",
    "        nu_mean_z = (alpha0 + alpha * x).reshape(n)\n",
    "        nu_sd_z_log = xi_log.repeat(n)\n",
    "    else:\n",
    "        nu_mean_z = torch.rand(n)\n",
    "        nu_sd_z_log = torch.rand(n)\n",
    "    \n",
    "    return nu_mean_theta, nu_sd_theta_log, alpha0, alpha, nu_mean_z, nu_sd_z_log, xi_log\n"
   ]
  },
  {
   "attachments": {},
   "cell_type": "markdown",
   "id": "81401f17",
   "metadata": {},
   "source": [
    "Define distributions to estimate the ELBO."
   ]
  },
  {
   "cell_type": "code",
   "execution_count": 6,
   "id": "79704a92",
   "metadata": {},
   "outputs": [],
   "source": [
    "# Not vectorized, simpler version (i.e. assume only one Monte Carlo estimator)\n",
    "def log_joint(x, theta, z):\n",
    "    return -0.5 * torch.sum(z**2) - 1 / (2 * sigma**2)\\\n",
    "              * torch.sum((x - theta - tau * z)**2)\n",
    "\n",
    "def log_q(theta, z, nu_mean_theta, nu_sd_theta, nu_mean_z, nu_sd_z):\n",
    "    log_q_theta = - torch.log(nu_sd_theta) - 1 / (2 * nu_sd_theta**2)\\\n",
    "                    * (theta - nu_mean_theta)**2\n",
    "    log_q_z = torch.sum(- torch.log(nu_sd_z) - 1 / (2 * nu_sd_z**2) * (z - nu_mean_z)**2)\n",
    "    return log_q_theta + log_q_z"
   ]
  },
  {
   "cell_type": "code",
   "execution_count": 7,
   "id": "823d4c43",
   "metadata": {},
   "outputs": [],
   "source": [
    "# vectorized version for GPU\n",
    "def log_joint_v(x, theta, z):\n",
    "    return -0.5 * torch.sum(z**2, dim = 1) - 1 / (2 * sigma**2)\\\n",
    "              * torch.sum((x - theta[:, None] - tau * z)**2, dim = 1)\n",
    "\n",
    "def log_q_v(theta, z, nu_mean_theta, nu_sd_theta, nu_mean_z, nu_sd_z):\n",
    "    log_q_theta = - torch.log(nu_sd_theta) - 1 / (2 * nu_sd_theta**2)\\\n",
    "                    * (theta - nu_mean_theta)**2\n",
    "    log_q_z = torch.sum(- torch.log(nu_sd_z) - 1 / (2 * nu_sd_z**2) * (z - nu_mean_z)**2,\n",
    "                        dim = 1)\n",
    "    return log_q_theta + log_q_z"
   ]
  },
  {
   "attachments": {},
   "cell_type": "markdown",
   "id": "bde63698",
   "metadata": {},
   "source": [
    "### Factorized VI"
   ]
  },
  {
   "cell_type": "code",
   "execution_count": 8,
   "id": "8037f955",
   "metadata": {},
   "outputs": [],
   "source": [
    "# Tuning parameters for FVI\n",
    "mc_samples = 100  # for Monte Carlo estimator of ELBO"
   ]
  },
  {
   "cell_type": "code",
   "execution_count": 9,
   "id": "f6ceed5c",
   "metadata": {},
   "outputs": [],
   "source": [
    "class MCElbo_FVI(torch.nn.Module):\n",
    "    def __init__(self, nu_mean_theta_init, nu_sd_theta_log_init,\n",
    "                 nu_mean_z_init, nu_sd_z_log_init, mc_samples = mc_samples):\n",
    "        super(MCElbo_FVI, self).__init__()\n",
    "\n",
    "        self.nu_mean_theta = torch.nn.Parameter(nu_mean_theta_init, requires_grad = True)\n",
    "        self.nu_sd_theta_log = torch.nn.Parameter(nu_sd_theta_log_init, requires_grad = True)\n",
    "        self.nu_mean_z = torch.nn.Parameter(nu_mean_z_init, requires_grad = True)\n",
    "        self.nu_sd_z_log = torch.nn.Parameter(nu_sd_z_log_init, requires_grad = True)\n",
    "\n",
    "        self.mc_samples = mc_samples\n",
    "\n",
    "        print(mc_samples)\n",
    "\n",
    "    def generate_rand(self, m):\n",
    "        eps_theta = torch.randn(m).to(device)\n",
    "        eps_z = torch.randn((m, n)).to(device)\n",
    "        return eps_theta, eps_z\n",
    "\n",
    "    def reparam(self, eps_theta, eps_z):\n",
    "        return eps_theta.mul(torch.exp(self.nu_sd_theta_log)).add(self.nu_mean_theta),\\\n",
    "               eps_z.mul(torch.exp(self.nu_sd_z_log)).add(self.nu_mean_z)\n",
    "\n",
    "    def compute_elbo(self, x):\n",
    "        eps_theta, eps_z = self.generate_rand(self.mc_samples)\n",
    "        theta, z = self.reparam(eps_theta, eps_z)\n",
    "        Elbo = log_joint_v(x, theta, z)\\\n",
    "          - log_q_v(theta, z, \n",
    "                    self.nu_mean_theta, torch.exp(self.nu_sd_theta_log),\n",
    "                    self.nu_mean_z, torch.exp(self.nu_sd_z_log))\n",
    "        return torch.mean(Elbo)\n",
    "    \n",
    "    def variational_parameters(self, _x):\n",
    "        return self.nu_mean_theta, self.nu_sd_theta_log, self.nu_mean_z, self.nu_sd_z_log\n"
   ]
  },
  {
   "cell_type": "code",
   "execution_count": 10,
   "id": "19eee192",
   "metadata": {},
   "outputs": [],
   "source": [
    "def fvi_diagnose(model, x):\n",
    "    # Evaluate the gradient of F-VI as a way to diagnose if the inference neural network\n",
    "    # is sufficiently expressive.\n",
    "    # This is an EXPERIMENTAL feature (not reported in the paper)\n",
    "    nu_mean_theta, nu_sd_theta_log, nu_mean_z, nu_sd_z_log = model.variational_parameters(x)\n",
    "\n",
    "    model_benchmark = MCElbo_FVI(nu_mean_theta, nu_sd_theta_log, nu_mean_z, nu_sd_z_log,\n",
    "                                 mc_samples = int(10000))\n",
    "\n",
    "    loss = - model_benchmark.compute_elbo(x)\n",
    "    loss.backward()\n",
    "    print(\"\\tFVI loss = \", loss.data)\n",
    "\n",
    "    grads = []\n",
    "    for param in model_benchmark.parameters():\n",
    "        grads.append(param.grad.view(-1))\n",
    "    grads = torch.cat(grads)\n",
    "\n",
    "    return torch.norm(grads)"
   ]
  },
  {
   "cell_type": "code",
   "execution_count": 11,
   "id": "afa58880",
   "metadata": {},
   "outputs": [],
   "source": [
    "def run_fvi(seed, n_iter_optimizer, lock_init = True, print_output = False):\n",
    "    torch.manual_seed(seed)\n",
    "\n",
    "    nu_mean_theta_init, nu_sd_theta_log_init, _alpha0, _alpha, nu_mean_z_init,\\\n",
    "        nu_sd_z_log_init, _xi_log = vi_init(seed, lock_init)\n",
    "\n",
    "    model = MCElbo_FVI(nu_mean_theta_init, nu_sd_theta_log_init, nu_mean_z_init,\n",
    "                       nu_sd_z_log_init).to(device)\n",
    "    optimizer = torch.optim.Adam(model.parameters(), lr = 1e-3)\n",
    "    x_torch = Variable(torch.tensor(x), requires_grad = False).reshape(n)\n",
    "    x_torch = x_torch.to(device) # move to GPU, if available\n",
    "\n",
    "    loss_saved = torch.empty((n_iter_optimizer,))\n",
    "    grad_norm_saved = torch.empty((n_iter_optimizer,))\n",
    "\n",
    "    start_time = time.time()\n",
    "    for i in range(n_iter_optimizer):\n",
    "        loss = - model.compute_elbo(x_torch)\n",
    "        optimizer.zero_grad()\n",
    "        loss.backward()\n",
    "        optimizer.step()\n",
    "        loss_saved[i] = loss.data\n",
    "\n",
    "        if (False):  # track gradient for diagnostic purposes\n",
    "            grads = []\n",
    "            for param in model.parameters():\n",
    "                grads.append(param.grad.view(-1))\n",
    "            grads = torch.cat(grads)\n",
    "            grad_norm_saved[i] = torch.norm(grads)\n",
    "\n",
    "        if i % 1000  == 0 and print_output:\n",
    "            print(\"loss\", loss_saved[i])\n",
    "    end_time = time.time()\n",
    "    time_fvi = end_time - start_time\n",
    "\n",
    "    fvi_gradient = fvi_diagnose(model, x_torch)\n",
    "\n",
    "    return loss_saved, time_fvi, fvi_gradient  # , grad_norm_saved\n"
   ]
  },
  {
   "cell_type": "code",
   "execution_count": 12,
   "id": "5548b047",
   "metadata": {},
   "outputs": [],
   "source": [
    "# Do a single run and check the output\n",
    "if (False):\n",
    "    loss_saved, time_fvi = run_fvi(seed, n_iter_optimizer)\n",
    "\n",
    "    # Get final result from training model\n",
    "    print(\"loss\", loss.data)\n",
    "    mf_mean_theta = model.nu_mean_theta.data\n",
    "    mf_sd_theta = torch.exp(model.nu_sd_theta_log).data\n",
    "    print(mf_mean_theta, mf_sd_theta)\n",
    "\n",
    "    # Expected results for marginal posterior of theta\n",
    "    print(np.mean(x))  # mean\n",
    "    print(np.sqrt((tau**2 + sigma**2) / n))  # sd\n",
    "\n",
    "    plt.plot(loss_saved)\n",
    "    plt.yscale(\"log\")\n",
    "    plt.xscale(\"log\")"
   ]
  },
  {
   "attachments": {},
   "cell_type": "markdown",
   "id": "64201ff9",
   "metadata": {},
   "source": [
    "###  Amortized VI\n",
    "We consider AVI using a polynomial inference function of degree up to 2.\n",
    "In the amortized family,\n",
    "\\begin{equation*}\n",
    "  q(z_i; x_i) = \\text{normal}(f_\\mu(x_i, \\eta), f_{\\sigma^2}(x_i, \\eta)),\n",
    "\\end{equation*}\n",
    "where\n",
    "\\begin{eqnarray*}\n",
    "  f_\\mu(x_i, \\eta) & = & \\alpha_0 + \\alpha x_i + \\beta x_i^2 \\\\\n",
    "  f_{\\sigma^2}(x_i, \\eta) & = & \\eta_{\\sigma^2},\n",
    "\\end{eqnarray*}\n",
    "meaning we need to optimize over three variational parameters, $\\eta = (\\alpha_0, \\alpha, \\beta, \\eta_{\\sigma^2})$, regardless of what $n$ may be."
   ]
  },
  {
   "cell_type": "code",
   "execution_count": 18,
   "id": "6d388384",
   "metadata": {},
   "outputs": [],
   "source": [
    "class MCElbo_AVI(torch.nn.Module):\n",
    "    def __init__(self, nu_mean_theta_init, nu_sd_theta_log_init,\n",
    "                 alpha0_init, alpha_init, xi_log_init, poly_degree):\n",
    "        super(MCElbo_AVI, self).__init__()\n",
    "\n",
    "        self.poly_degree = poly_degree\n",
    "        \n",
    "        self.nu_mean_theta = torch.nn.Parameter(nu_mean_theta_init, requires_grad = True)\n",
    "        self.nu_sd_theta_log = torch.nn.Parameter(nu_sd_theta_log_init, requires_grad = True)\n",
    "        self.alpha0 = torch.nn.Parameter(alpha0_init, requires_grad = True)\n",
    "        self.alpha = torch.nn.Parameter(alpha_init, requires_grad = True)\n",
    "        self.beta = torch.nn.Parameter(torch.randn((1, 1)), requires_grad = True)\n",
    "        self.nu_sd_z_log = torch.nn.Parameter(xi_log_init, requires_grad = True)\n",
    "        \n",
    "        self.mc_samples = mc_samples\n",
    "        \n",
    "   \n",
    "    def generate_rand(self, m):\n",
    "        eps_theta = torch.randn(m).to(device)\n",
    "        eps_z = torch.randn((m, n)).to(device)\n",
    "        return eps_theta, eps_z\n",
    "\n",
    "    def reparam(self, eps_theta, eps_z, x, nu_mean_z):\n",
    "        return eps_theta.mul(torch.exp(self.nu_sd_theta_log)).add(self.nu_mean_theta),\\\n",
    "               eps_z.mul(torch.exp(self.nu_sd_z_log)).add(nu_mean_z)\n",
    "\n",
    "    def compute_elbo_sample(self, x, nu_mean_z):\n",
    "        eps_theta, eps_z = self.generate_rand()\n",
    "        theta, z = self.reparam(eps_theta, eps_z, x, nu_mean_z)\n",
    "\n",
    "        elbo = log_joint(x, theta, z) - log_q(theta, z, self.nu_mean_theta,\n",
    "                                              torch.exp(self.nu_sd_theta_log),\n",
    "                                              nu_mean_z,\n",
    "                                              torch.exp(self.nu_sd_z_log))\n",
    "        return elbo        \n",
    "    \n",
    "    def variational_z(self, x):\n",
    "        if (self.poly_degree == 0):\n",
    "            nu_mean_z = self.alpha0\n",
    "        if (self.poly_degree == 1):\n",
    "            nu_mean_z = self.alpha0 + self.alpha.mul(x)\n",
    "        if (self.poly_degree == 2):\n",
    "            nu_mean_z = self.alpha0 + self.alpha.mul(x) + self.beta.mul(x**2)\n",
    "        \n",
    "        return nu_mean_z\n",
    "\n",
    "\n",
    "    def compute_elbo(self, x):\n",
    "        nu_mean_z = self.variational_z(x)\n",
    "        eps_theta, eps_z = self.generate_rand(self.mc_samples)\n",
    "        theta, z = self.reparam(eps_theta, eps_z, x, nu_mean_z)\n",
    "        \n",
    "        Elbo = log_joint_v(x, theta, z)\\\n",
    "          - log_q_v(theta, z, \n",
    "                    self.nu_mean_theta, torch.exp(self.nu_sd_theta_log),\n",
    "                    nu_mean_z, torch.exp(self.nu_sd_z_log))\n",
    "        return torch.mean(Elbo)   \n",
    "\n",
    "    def variational_parameters(self, x):\n",
    "        nu_mean_z = self.variational_z(x)\n",
    "        nu_sd_z_log = self.nu_sd_z_log.repeat(nu_mean_z.shape)\n",
    "        \n",
    "        return self.nu_mean_theta, self.nu_sd_theta_log, nu_mean_z, nu_sd_z_log\n"
   ]
  },
  {
   "cell_type": "code",
   "execution_count": 19,
   "id": "0a93d655",
   "metadata": {},
   "outputs": [],
   "source": [
    "def run_avi(poly_degree, seed, n_iter_optimizer, lock_init = True, print_output = False):\n",
    "    torch.manual_seed(seed)\n",
    "    nu_mean_theta_init, nu_sd_theta_log_init, alpha0_init, alpha_init,\\\n",
    "    __mean_z, _nu_sd_z_log, xi_log_init = vi_init(seed, lock_init)\n",
    "\n",
    "    model_av = MCElbo_AVI(nu_mean_theta_init, nu_sd_theta_log_init,\n",
    "                          alpha0_init, alpha_init, xi_log_init, poly_degree).to(device)\n",
    "    optimizer = torch.optim.Adam(model_av.parameters(), lr = 1e-2)\n",
    "    x_torch = Variable(torch.tensor(x), requires_grad = False).reshape(n)\n",
    "    x_torch = x_torch.to(device) \n",
    "\n",
    "    loss_av_saved = torch.empty((n_iter_optimizer,))\n",
    "\n",
    "    start_time = time.time()\n",
    "    for i in range(n_iter_optimizer):\n",
    "        loss_av = - model_av.compute_elbo(x_torch)\n",
    "        optimizer.zero_grad()\n",
    "        loss_av.backward()\n",
    "        optimizer.step()\n",
    "        loss_av_saved[i] = loss_av.data\n",
    "        if i % 1000 == 0 and print_output:\n",
    "            print(\"loss\", loss_av.data)\n",
    "    end_time = time.time()\n",
    "\n",
    "    fvi_gradient = fvi_diagnose(model_av, x_torch)\n",
    "\n",
    "    return loss_av_saved, end_time - start_time, fvi_gradient\n"
   ]
  },
  {
   "cell_type": "code",
   "execution_count": 21,
   "id": "f721f059",
   "metadata": {},
   "outputs": [],
   "source": [
    "# DRAFT CODE -- examine individual runs \n",
    "\n",
    "# n_iter_optimizer = int(5e3)\n",
    "\n",
    "# seed = 2011\n",
    "# loss_saved, time_fvi, fvi_grad, grad_norm_saved = run_fvi(seed, n_iter_optimizer, print_output = True)\n",
    "# loss_avi_0_saved, time_avi_0, fvi_grad0 = run_avi(0, seed, n_iter_optimizer)\n",
    "# loss_avi_1_saved, time_avi_1, fvi_grad1 = run_avi(1, seed, n_iter_optimizer)\n",
    "# loss_avi_2_saved, time_avi_2 = run_avi(2, seed, n_iter_optimizer)\n",
    "\n",
    "# save loss functions to csv\n",
    "# n_algorithms = 4\n",
    "# loss_all = torch.empty((n_iter_optimizer, n_algorithms))\n",
    "\n",
    "# loss_all[:, 0] = loss_saved\n",
    "# loss_all[:, 1] = loss_avi_0_saved\n",
    "# loss_all[:, 2] = loss_avi_1_saved\n",
    "# loss_all[:, 3] = loss_avi_2_saved\n",
    "\n",
    "# np.save(\"deliv/lin_loss_\" + str(seed), loss_all.detach().numpy())\n",
    "\n",
    "# saved_times = np.array([time_fvi, time_avi_0, time_avi_1, time_avi_2])\n",
    "# np.save(\"deliv/lin_time_\" + str(seed), saved_times)\n",
    "\n",
    "# print(\"Diagnostic:\\n\\tFVI = \", fvi_grad.data, \n",
    "#       \"\\n\\tAVI (0) = \", fvi_grad0.data, \n",
    "#       \"\\n\\tAVI (1) = \", fvi_grad1.data)\n",
    "\n",
    "# plt.plot(loss_saved, label = 'FVI', alpha = 0.5)\n",
    "# plt.plot(loss_avi_0_saved, label = 'd = 0', alpha = 0.5)\n",
    "# plt.plot(loss_avi_1_saved, label = 'd = 1', alpha = 0.5)\n",
    "# plt.legend(loc = \"best\")\n",
    "# plt.yscale(\"log\")\n"
   ]
  },
  {
   "cell_type": "code",
   "execution_count": 26,
   "id": "3e4f0f70",
   "metadata": {},
   "outputs": [],
   "source": [
    "# function to run the experiments over multiple seeds and save experimental output.\n",
    "def run_experiment(seed, n_iter_optimizer, lock_init):\n",
    "    loss_fvi, time_fvi, _ = run_fvi(seed, n_iter_optimizer, lock_init)\n",
    "    loss_avi_0_saved, time_avi_0, _ = run_avi(0, seed, n_iter_optimizer, lock_init)\n",
    "    loss_avi_1_saved, time_avi_1, _ = run_avi(1, seed, n_iter_optimizer, lock_init)\n",
    "    loss_avi_2_saved, time_avi_2, _ = run_avi(2, seed, n_iter_optimizer, lock_init)\n",
    "\n",
    "    n_algorithms = 4\n",
    "    loss_all = torch.empty((n_iter_optimizer, n_algorithms))\n",
    "\n",
    "    loss_all[:, 0] = loss_fvi\n",
    "    loss_all[:, 1] = loss_avi_0_saved\n",
    "    loss_all[:, 2] = loss_avi_1_saved\n",
    "    loss_all[:, 3] = loss_avi_2_saved\n",
    "\n",
    "    np.save(\"deliv/lin_loss_\" + str(seed) + \"_lock\" + str(lock_init), loss_all.detach().numpy())\n",
    "\n",
    "    saved_times = np.array([time_fvi, time_avi_0, time_avi_1, time_avi_2])\n",
    "    np.save(\"deliv/lin_time_\" + str(seed) + \"_lock\" + str(lock_init), saved_times)\n"
   ]
  },
  {
   "cell_type": "code",
   "execution_count": 27,
   "id": "87bee381",
   "metadata": {},
   "outputs": [
    {
     "name": "stdout",
     "output_type": "stream",
     "text": [
      "seed:  1954\n",
      "100\n",
      "10000\n",
      "\tFVI loss =  tensor(6147.5432, device='cuda:0', dtype=torch.float64)\n",
      "10000\n",
      "\tFVI loss =  tensor(7233.6868, device='cuda:0', dtype=torch.float64)\n",
      "10000\n",
      "\tFVI loss =  tensor(6088.6146, device='cuda:0', dtype=torch.float64)\n",
      "10000\n",
      "\tFVI loss =  tensor(6088.6687, device='cuda:0', dtype=torch.float64)\n",
      "seed:  1955\n",
      "100\n",
      "10000\n",
      "\tFVI loss =  tensor(6446.7229, device='cuda:0', dtype=torch.float64)\n",
      "10000\n",
      "\tFVI loss =  tensor(7239.5578, device='cuda:0', dtype=torch.float64)\n",
      "10000\n",
      "\tFVI loss =  tensor(6095.2450, device='cuda:0', dtype=torch.float64)\n",
      "10000\n",
      "\tFVI loss =  tensor(6095.4882, device='cuda:0', dtype=torch.float64)\n",
      "seed:  1956\n",
      "100\n",
      "10000\n",
      "\tFVI loss =  tensor(6090.4158, device='cuda:0', dtype=torch.float64)\n",
      "10000\n",
      "\tFVI loss =  tensor(7232.2938, device='cuda:0', dtype=torch.float64)\n",
      "10000\n",
      "\tFVI loss =  tensor(6087.9968, device='cuda:0', dtype=torch.float64)\n",
      "10000\n",
      "\tFVI loss =  tensor(6088.3910, device='cuda:0', dtype=torch.float64)\n",
      "seed:  1957\n",
      "100\n",
      "10000\n",
      "\tFVI loss =  tensor(6243.6017, device='cuda:0', dtype=torch.float64)\n",
      "10000\n",
      "\tFVI loss =  tensor(7234.8651, device='cuda:0', dtype=torch.float64)\n",
      "10000\n",
      "\tFVI loss =  tensor(6090.5642, device='cuda:0', dtype=torch.float64)\n",
      "10000\n",
      "\tFVI loss =  tensor(6091.0378, device='cuda:0', dtype=torch.float64)\n",
      "seed:  1958\n",
      "100\n",
      "10000\n",
      "\tFVI loss =  tensor(6094.0162, device='cuda:0', dtype=torch.float64)\n",
      "10000\n",
      "\tFVI loss =  tensor(7233.6308, device='cuda:0', dtype=torch.float64)\n",
      "10000\n",
      "\tFVI loss =  tensor(6088.0022, device='cuda:0', dtype=torch.float64)\n",
      "10000\n",
      "\tFVI loss =  tensor(6088.0022, device='cuda:0', dtype=torch.float64)\n",
      "seed:  1959\n",
      "100\n",
      "10000\n",
      "\tFVI loss =  tensor(6089.7449, device='cuda:0', dtype=torch.float64)\n",
      "10000\n",
      "\tFVI loss =  tensor(7233.0487, device='cuda:0', dtype=torch.float64)\n",
      "10000\n",
      "\tFVI loss =  tensor(6087.9977, device='cuda:0', dtype=torch.float64)\n",
      "10000\n",
      "\tFVI loss =  tensor(6087.9970, device='cuda:0', dtype=torch.float64)\n",
      "seed:  1960\n",
      "100\n",
      "10000\n",
      "\tFVI loss =  tensor(6149.3867, device='cuda:0', dtype=torch.float64)\n",
      "10000\n",
      "\tFVI loss =  tensor(7233.0413, device='cuda:0', dtype=torch.float64)\n",
      "10000\n",
      "\tFVI loss =  tensor(6088.6530, device='cuda:0', dtype=torch.float64)\n",
      "10000\n",
      "\tFVI loss =  tensor(6088.7728, device='cuda:0', dtype=torch.float64)\n",
      "seed:  1961\n",
      "100\n",
      "10000\n",
      "\tFVI loss =  tensor(6089.9667, device='cuda:0', dtype=torch.float64)\n",
      "10000\n",
      "\tFVI loss =  tensor(7231.7197, device='cuda:0', dtype=torch.float64)\n",
      "10000\n",
      "\tFVI loss =  tensor(6087.9883, device='cuda:0', dtype=torch.float64)\n",
      "10000\n",
      "\tFVI loss =  tensor(6087.9888, device='cuda:0', dtype=torch.float64)\n",
      "seed:  1962\n",
      "100\n",
      "10000\n",
      "\tFVI loss =  tensor(6088.4945, device='cuda:0', dtype=torch.float64)\n",
      "10000\n",
      "\tFVI loss =  tensor(7232.8629, device='cuda:0', dtype=torch.float64)\n",
      "10000\n",
      "\tFVI loss =  tensor(6088.0550, device='cuda:0', dtype=torch.float64)\n",
      "10000\n",
      "\tFVI loss =  tensor(6088.0579, device='cuda:0', dtype=torch.float64)\n",
      "seed:  1963\n",
      "100\n",
      "10000\n",
      "\tFVI loss =  tensor(6091.3666, device='cuda:0', dtype=torch.float64)\n",
      "10000\n",
      "\tFVI loss =  tensor(7232.1359, device='cuda:0', dtype=torch.float64)\n",
      "10000\n",
      "\tFVI loss =  tensor(6088.0688, device='cuda:0', dtype=torch.float64)\n",
      "10000\n",
      "\tFVI loss =  tensor(6088.0542, device='cuda:0', dtype=torch.float64)\n"
     ]
    }
   ],
   "source": [
    "init_seed = 1954\n",
    "n_iter_optimizer = int(5e3)\n",
    "\n",
    "for i in range(10):\n",
    "    seed = init_seed + i\n",
    "    print(\"seed: \", seed)\n",
    "    run_experiment(seed, n_iter_optimizer, lock_init = False)\n"
   ]
  },
  {
   "attachments": {},
   "cell_type": "markdown",
   "id": "ef484fe9",
   "metadata": {},
   "source": [
    "### Analyze results"
   ]
  },
  {
   "cell_type": "code",
   "execution_count": 4,
   "id": "758b7574",
   "metadata": {},
   "outputs": [
    {
     "name": "stderr",
     "output_type": "stream",
     "text": [
      "/tmp/ipykernel_773500/2082746085.py:1: MatplotlibDeprecationWarning: The seaborn styles shipped by Matplotlib are deprecated since 3.6, as they no longer correspond to the styles shipped by seaborn. However, they will remain available as 'seaborn-v0_8-<style>'. Alternatively, directly use the seaborn API instead.\n",
      "  plt.style.use('seaborn-white')\n"
     ]
    }
   ],
   "source": [
    "plt.style.use('seaborn-white')\n",
    "params = {'axes.labelsize': 18,'axes.titlesize':25, 'legend.fontsize': 20, 'xtick.labelsize': 15,\n",
    "          'ytick.labelsize': 15}\n",
    "plt.rcParams.update(params)\n",
    "linewidth = 4\n"
   ]
  },
  {
   "attachments": {},
   "cell_type": "markdown",
   "id": "bb0cd72c",
   "metadata": {},
   "source": [
    "#### Results for a single seed"
   ]
  },
  {
   "cell_type": "code",
   "execution_count": 5,
   "id": "28dd05a6",
   "metadata": {},
   "outputs": [
    {
     "data": {
      "image/png": "[encoded data removed]",
      "text/plain": [
       "<Figure size 640x480 with 1 Axes>"
      ]
     },
     "metadata": {},
     "output_type": "display_data"
    }
   ],
   "source": [
    "# read saved input from a single file (for illustrative purposes)\n",
    "seed = 1959\n",
    "lock_init = False\n",
    "loss_all = np.load(\"deliv/lin_loss_\" + str(seed) + \"_lock\" + str(lock_init) + \".npy\")\n",
    "# CHECK -- is it ok to use pickle = True\n",
    "\n",
    "loss_saved = loss_all[:, 0]\n",
    "loss_avi_0_saved = loss_all[:, 1]\n",
    "loss_avi_1_saved = loss_all[:, 2]\n",
    "loss_avi_2_saved = loss_all[:, 3]\n",
    "\n",
    "fig, ax =  plt.subplots()\n",
    "\n",
    "\n",
    "ax.plot(loss_saved, label = 'F-VI', linewidth = linewidth,\n",
    "        color = 'black')\n",
    "ax.plot(loss_avi_0_saved, label = 'Const', linewidth = linewidth, color = 'red')\n",
    "ax.plot(loss_avi_1_saved, label = 'd = 1', alpha = 0.5, linewidth = linewidth)\n",
    "ax.plot(loss_avi_2_saved, label = 'd = 2', alpha = 0.5, linewidth = linewidth)\n",
    "plt.yscale(\"log\")\n",
    "plt.xscale(\"log\")\n",
    "plt.title(\"Linear probabilistic model\")\n",
    "# plt.xlabel(\"Iteration\")\n",
    "plt.ylabel(\"ELBO\")\n",
    "plt.gca().invert_yaxis()\n",
    "plt.legend(loc = \"right\")\n",
    "\n",
    "plt.grid(which = 'minor', visible = 'true', c = 'grey', alpha = 0.25)\n",
    "plt.savefig(\"to_discuss/elbo_lin_normal_\" + str(seed) + \".pdf\", bbox_inches='tight')\n",
    "plt.show()\n"
   ]
  },
  {
   "cell_type": "code",
   "execution_count": 6,
   "id": "c63c8de1",
   "metadata": {},
   "outputs": [],
   "source": [
    "def mean_window(loss, index_center, window):\n",
    "    return np.mean(loss[(index_center - window):(index_center + window)])\n",
    "\n",
    "def sd_window(loss, index_center, window):\n",
    "    return np.std(loss[(index_center - window):(index_center + window)]) "
   ]
  },
  {
   "cell_type": "code",
   "execution_count": 7,
   "id": "59925b3a",
   "metadata": {},
   "outputs": [
    {
     "name": "stdout",
     "output_type": "stream",
     "text": [
      "FVI:  6090.304  +/-  0.56181294\n",
      "d = 0:  7232.3623  +/-  4.779482\n",
      "d = 1:  6087.993  +/-  0.046761114\n",
      "d = 2:  6087.996  +/-  0.048420817\n"
     ]
    }
   ],
   "source": [
    "# Get asymptotic ELBO\n",
    "index_center = 4500\n",
    "window = 500\n",
    "print(\"FVI: \", mean_window(loss_saved, 4500, window), \" +/- \",\n",
    "     sd_window(loss_saved, 4500, window))\n",
    "print(\"d = 0: \", mean_window(loss_avi_0_saved, 4500, window), \" +/- \",\n",
    "     sd_window(loss_avi_0_saved, 4500, window))\n",
    "print(\"d = 1: \", mean_window(loss_avi_1_saved, 4500, window), \" +/- \",\n",
    "     sd_window(loss_avi_1_saved, 4500, window))\n",
    "print(\"d = 2: \", mean_window(loss_avi_2_saved, 4500, window), \" +/- \",\n",
    "     sd_window(loss_avi_2_saved, 4500, window))"
   ]
  },
  {
   "cell_type": "code",
   "execution_count": 8,
   "id": "dcf3191e",
   "metadata": {},
   "outputs": [],
   "source": [
    "## Estimate of the convergence\n",
    "# If oracle = False, compare subsequent windows.\n",
    "def iter_convergence(loss, rel_tol = 0.01, init_iteration = 10, window = 10,\n",
    "                     grid = 10, max_iteration = 5000, oracle = True, set_target = 0):\n",
    "    iteration = init_iteration\n",
    "    tol = 0\n",
    "    diff = tol + 1\n",
    "    while(diff > tol and iteration < max_iteration):\n",
    "        iteration += grid\n",
    "        if (oracle):\n",
    "            target = set_target\n",
    "        else:\n",
    "            target = mean_window(loss, iteration - grid, window)\n",
    "\n",
    "        tol = rel_tol * abs(target)\n",
    "        diff = abs(mean_window(loss, iteration, window) - target)\n",
    "        # print(\"diff:\", diff)\n",
    "        # print(\"tol:\", tol)\n",
    "    return iteration\n",
    "\n",
    "# Q: should we report convergence to F-VI's solution or for each individual solution?\n",
    "def iter_conv_wrapper(loss, loss_benchmark, rel_tol = 0.01, window = 10):\n",
    "    return iter_convergence(loss, oracle = True, rel_tol = rel_tol,\n",
    "                            set_target = mean_window(loss_benchmark, 4500, window))\n"
   ]
  },
  {
   "cell_type": "code",
   "execution_count": 9,
   "id": "65f171c9",
   "metadata": {},
   "outputs": [
    {
     "name": "stdout",
     "output_type": "stream",
     "text": [
      "FVI: 2000\n",
      "d = 0: 5000\n",
      "d = 1: 220\n",
      "d = 2: 500\n"
     ]
    }
   ],
   "source": [
    "print(\"FVI:\", iter_conv_wrapper(loss_saved, loss_saved))\n",
    "print(\"d = 0:\", iter_conv_wrapper(loss_avi_0_saved, loss_saved))\n",
    "print(\"d = 1:\", iter_conv_wrapper(loss_avi_1_saved, loss_saved))\n",
    "print(\"d = 2:\", iter_conv_wrapper(loss_avi_2_saved, loss_saved))\n"
   ]
  },
  {
   "attachments": {},
   "cell_type": "markdown",
   "id": "4c56f291",
   "metadata": {},
   "source": [
    "#### Results across multiple seeds"
   ]
  },
  {
   "cell_type": "code",
   "execution_count": 10,
   "id": "c8d9400c",
   "metadata": {},
   "outputs": [],
   "source": [
    "# Get results across multiple seeds\n",
    "init_seed = 1954\n",
    "num_seed = 10\n",
    "lock_init = False  # Both options have saved files\n",
    "num_seed = 10\n",
    "n_algorithms = 4\n",
    "num_tol = 3\n",
    "rel_tol = np.array([0.5, 0.1, 0.01])\n",
    "\n",
    "iter_to_conv = np.empty((num_seed, n_algorithms, num_tol))\n",
    "Elbo_final = np.empty((num_seed, n_algorithms)) \n",
    "\n",
    "for i in range(num_seed):\n",
    "    loss_all = np.load(\"deliv/lin_loss_\" + str(init_seed + i) + \"_lock\" + str(lock_init) + \".npy\")\n",
    "\n",
    "    for j in range(n_algorithms):\n",
    "        Elbo_final[i, j] = mean_window(loss_all[:, j], 4500, window)\n",
    "        for k in range(num_tol):\n",
    "            # Use F-VI as the benchmark for the asymptotic ELBO\n",
    "            iter_to_conv[i, j, k] = iter_conv_wrapper(loss_all[:, j], loss_all[:, 0], rel_tol[k])\n"
   ]
  },
  {
   "cell_type": "code",
   "execution_count": 11,
   "id": "16d956e3",
   "metadata": {},
   "outputs": [
    {
     "name": "stdout",
     "output_type": "stream",
     "text": [
      "median iter:\n",
      " [[ 550. 1200. 2135.]\n",
      " [ 115. 5000. 5000.]\n",
      " [ 115.  180.  365.]\n",
      " [ 165.  395.  700.]]\n",
      "min iter:\n",
      " [[ 480. 1110. 1960.]\n",
      " [  20. 5000. 5000.]\n",
      " [  20.   70.  200.]\n",
      " [  40.  100.  190.]]\n",
      "max iter:\n",
      " [[1390. 2950. 4160.]\n",
      " [ 210. 5000. 5000.]\n",
      " [ 270.  340.  580.]\n",
      " [ 370.  620.  900.]]\n",
      "[6172.80493164 7233.93647461 6089.5940918  6089.71582031]\n"
     ]
    }
   ],
   "source": [
    "print(\"median iter:\\n\", np.median(iter_to_conv, axis = 0))\n",
    "print(\"min iter:\\n\", np.min(iter_to_conv, axis = 0))\n",
    "print(\"max iter:\\n\", np.max(iter_to_conv, axis = 0))\n",
    "print(np.mean(Elbo_final, axis = 0))"
   ]
  },
  {
   "cell_type": "code",
   "execution_count": 12,
   "id": "bcc206d3",
   "metadata": {},
   "outputs": [
    {
     "data": {
      "text/plain": [
       "array([6088.47802734, 7232.23925781, 6087.99169922, 6087.99609375])"
      ]
     },
     "execution_count": 12,
     "metadata": {},
     "output_type": "execute_result"
    }
   ],
   "source": [
    "# Get final Elbo\n",
    "np.min(Elbo_final, axis = 0)"
   ]
  },
  {
   "cell_type": "code",
   "execution_count": 13,
   "id": "af9fc5bf",
   "metadata": {},
   "outputs": [
    {
     "data": {
      "text/plain": [
       "4"
      ]
     },
     "execution_count": 13,
     "metadata": {},
     "output_type": "execute_result"
    }
   ],
   "source": [
    "n_algorithms"
   ]
  },
  {
   "cell_type": "code",
   "execution_count": 14,
   "id": "34b76448",
   "metadata": {},
   "outputs": [],
   "source": [
    "algo_names = np.array(\"F-VI\")\n",
    "algo_names = np.append(algo_names, \"const\")\n",
    "algo_names = np.append(algo_names, \"d=1\")\n",
    "algo_names = np.append(algo_names, \"d=2\")"
   ]
  },
  {
   "cell_type": "code",
   "execution_count": 20,
   "id": "b222df3e",
   "metadata": {},
   "outputs": [
    {
     "data": {
      "image/png": "[encoded data removed]",
      "text/plain": [
       "<Figure size 640x480 with 1 Axes>"
      ]
     },
     "metadata": {},
     "output_type": "display_data"
    }
   ],
   "source": [
    "plt.boxplot(iter_to_conv[:,:,2], labels=algo_names, patch_artist=True,\n",
    "             boxprops = dict(facecolor = \"lightblue\"), vert=False\n",
    "             )\n",
    "plt.xscale(\"log\")\n",
    "plt.grid(which='minor', visible='true', c='grey', alpha = 0.25)\n",
    "plt.title(\"Linear probabilistic model\")\n",
    "plt.ylabel(\"VI algorithm\")\n",
    "plt.xlabel(\"Number of iterations to convergence\")\n",
    "plt.gca().invert_yaxis()\n",
    "\n",
    "plt.savefig(\"to_discuss/conv_lin_boxplot.pdf\", bbox_inches='tight')\n",
    "plt.show()"
   ]
  },
  {
   "cell_type": "code",
   "execution_count": null,
   "id": "9720a083",
   "metadata": {},
   "outputs": [],
   "source": []
  }
 ],
 "metadata": {
  "kernelspec": {
   "display_name": "Python 3",
   "language": "python",
   "name": "python3"
  },
  "language_info": {
   "codemirror_mode": {
    "name": "ipython",
    "version": 3
   },
   "file_extension": ".py",
   "mimetype": "text/x-python",
   "name": "python",
   "nbconvert_exporter": "python",
   "pygments_lexer": "ipython3",
   "version": "3.9.15"
  },
  "vscode": {
   "interpreter": {
    "hash": "5b7e68a6523d9654d119e3ab45bb2c5c51f02effa6643d52b99addcee48c066f"
   }
  }
 },
 "nbformat": 4,
 "nbformat_minor": 5
}
