{
 "cells": [
  {
   "attachments": {},
   "cell_type": "markdown",
   "metadata": {},
   "source": [
    "# Saw time series"
   ]
  },
  {
   "cell_type": "code",
   "execution_count": 1,
   "metadata": {},
   "outputs": [],
   "source": [
    "import numpy as np\n",
    "import torch\n",
    "import torch.nn as nn\n",
    "import torch.nn.functional as F\n",
    "from torch.autograd import Variable  # CHECK: do I need this?\n",
    "\n",
    "import matplotlib.pyplot as plt\n",
    "%matplotlib inline\n",
    "plt.style.use('ggplot')\n",
    "\n",
    "import time\n"
   ]
  },
  {
   "cell_type": "code",
   "execution_count": 2,
   "metadata": {},
   "outputs": [],
   "source": [
    "device = torch.device(\"cuda:0\" if torch.cuda.is_available() else \"cpu\")"
   ]
  },
  {
   "attachments": {},
   "cell_type": "markdown",
   "metadata": {},
   "source": [
    "### Simulate data"
   ]
  },
  {
   "cell_type": "code",
   "execution_count": 425,
   "metadata": {},
   "outputs": [],
   "source": [
    "torch.manual_seed(2012)\n",
    "\n",
    "N = 1000\n",
    "theta = torch.tensor([3.4159])\n",
    "a = 0.75\n",
    "z = torch.empty(N)\n",
    "x = torch.empty(N + 1)\n",
    "x[0] = 0\n",
    "for n in range(N):\n",
    "    z[n] = torch.randn(1) + x[n]\n",
    "    x[n + 1] = torch.randn(1) + a * (theta + x[n])\n"
   ]
  },
  {
   "cell_type": "code",
   "execution_count": null,
   "metadata": {
    "scrolled": true
   },
   "outputs": [],
   "source": [
    "plt.plot(x, alpha = 0.5)\n",
    "plt.plot(z, alpha = 0.5)"
   ]
  },
  {
   "attachments": {},
   "cell_type": "markdown",
   "metadata": {},
   "source": [
    "### Distributions for ELBO"
   ]
  },
  {
   "cell_type": "code",
   "execution_count": 427,
   "metadata": {},
   "outputs": [],
   "source": [
    "# Vectorized for Monte Carlo estimation of the ELBO\n",
    "def log_joint(x, theta, z):\n",
    "  return -0.5 * torch.sum((z - x[:N])**2, dim = 1)\\\n",
    "    - 0.5 * torch.sum((x[1:] - a * (z + theta))**2, dim = 1)\n",
    "\n",
    "def log_q(theta, z, nu_mean_theta, nu_sd_theta, nu_mean_z, nu_sd_z):\n",
    "    log_q_theta = torch.sum(- torch.log(nu_sd_theta) - 1 / (2 * nu_sd_theta**2)\\\n",
    "                    * (theta - nu_mean_theta)**2, dim = 1)\n",
    "    log_q_z = torch.sum(- torch.log(nu_sd_z) - 1 / (2 * nu_sd_z**2)\\\n",
    "                          * (z - nu_mean_z)**2, dim = 1)\n",
    "    return log_q_theta + log_q_z\n"
   ]
  },
  {
   "cell_type": "code",
   "execution_count": 428,
   "metadata": {},
   "outputs": [],
   "source": [
    "# SANITY CHECK\n",
    "if False:\n",
    "    N_mc = 10\n",
    "    theta = theta.to(device).repeat(N_mc).reshape(N_mc, 1)\n",
    "    z = z.to(device).repeat(N_mc).reshape(N_mc, N)\n",
    "    x = x.to(device)\n",
    "    nu_mean_theta = torch.randn(1).to(device)\n",
    "    nu_sd_theta = torch.exp(torch.randn(1)).to(device)\n",
    "    nu_mean_z = torch.randn(N).to(device)\n",
    "    nu_sd_z = torch.exp(torch.randn(N)).to(device)\n",
    "\n",
    "    print(log_joint(x, theta, z))\n",
    "    print(log_q(theta, z, nu_mean_theta, nu_sd_theta, nu_mean_z, nu_sd_z))"
   ]
  },
  {
   "attachments": {},
   "cell_type": "markdown",
   "metadata": {},
   "source": [
    "### Model class for VI"
   ]
  },
  {
   "cell_type": "code",
   "execution_count": 429,
   "metadata": {},
   "outputs": [],
   "source": [
    "class Inference_NN(nn.Module):\n",
    "    def __init__(self, input_dim, hidden_dim):\n",
    "        super(Inference_NN, self).__init__()\n",
    "\n",
    "        self.FC_input = nn.Linear(input_dim, hidden_dim)\n",
    "        self.FC_input2 = nn.Linear(hidden_dim, hidden_dim)\n",
    "        self.FC_mean = nn.Linear(hidden_dim, 1)\n",
    "        self.FC_sd_log = nn.Linear(hidden_dim, 1)\n",
    "\n",
    "    def forward(self, x):\n",
    "        h_ = F.relu(self.FC_input(x))\n",
    "        h_ = F.relu(self.FC_input2(h_))\n",
    "        mean = self.FC_mean(h_).reshape(N)\n",
    "        sd_log = self.FC_sd_log(h_).reshape(N)\n",
    "\n",
    "        return mean, sd_log\n"
   ]
  },
  {
   "cell_type": "code",
   "execution_count": 430,
   "metadata": {},
   "outputs": [],
   "source": [
    "class Model(nn.Module):\n",
    "    def __init__(self, input_dim = 1,\n",
    "                 use_avi = False, hidden_dim = 0, const_z = False, N_mc = 100):\n",
    "        super(Model, self).__init__()\n",
    "        self.use_avi = use_avi\n",
    "        self.const_z = const_z\n",
    "        self.input_dim = input_dim\n",
    "        self.hidden_dim = hidden_dim\n",
    "\n",
    "        # variational parameters for q(theta)\n",
    "        self.nu_mean_theta = torch.nn.Parameter(torch.randn(1))\n",
    "        self.nu_sd_theta_log = torch.nn.Parameter(torch.randn(1))\n",
    "\n",
    "        # variational parameters for q(z)\n",
    "        if (const_z and (not use_avi)):\n",
    "            self.nu_mean_z = torch.nn.Parameter(torch.randn(1))\n",
    "            self.nu_sd_z_log = torch.nn.Parameter(torch.randn(1))\n",
    "        elif (use_avi):\n",
    "            self.inference_nn = Inference_NN(input_dim, hidden_dim)\n",
    "        else:\n",
    "            self.nu_mean_z = torch.nn.Parameter(torch.randn(N))\n",
    "            self.nu_sd_z_log = torch.nn.Parameter(torch.randn(N))\n",
    "        \n",
    "        self.N_mc = N_mc\n",
    "\n",
    "    def reparam(self, nu_mean_z, nu_sd_z, nu_mean_theta, nu_sd_theta, N_mc):\n",
    "        epsilon = torch.randn((N_mc, N)).to(device)\n",
    "        z = nu_mean_z + nu_sd_z * epsilon\n",
    "        \n",
    "        epsilon_theta = torch.randn((N_mc, 1)).to(device)\n",
    "        theta = nu_mean_theta + nu_sd_theta * epsilon_theta\n",
    "\n",
    "        return z, theta\n",
    "    \n",
    "    def variational_z(self, x):\n",
    "        if (self.use_avi and self.input_dim == 1):\n",
    "            nu_mean_z, nu_sd_z_log = self.inference_nn(x[1:].reshape(N, 1))\n",
    "        elif (self.use_avi and self.input_dim == 2):\n",
    "            x_input = torch.transpose(torch.stack([x[:N], x[1:]]), 0, 1)\n",
    "            nu_mean_z, nu_sd_z_log = self.inference_nn(x_input)\n",
    "        elif (self.const_z):\n",
    "            nu_mean_z = self.nu_mean_z.repeat(N)\n",
    "            nu_sd_z_log = self.nu_sd_z_log.repeat(N)\n",
    "        else:\n",
    "            nu_mean_z = self.nu_mean_z\n",
    "            nu_sd_z_log = self.nu_sd_z_log\n",
    "        return nu_mean_z, torch.exp(nu_sd_z_log)\n",
    "    \n",
    "    def compute_elbo(self, x):\n",
    "        nu_mean_z, nu_sd_z = self.variational_z(x)\n",
    "        z, theta = self.reparam(nu_mean_z, nu_sd_z,\n",
    "                                self.nu_mean_theta, torch.exp(self.nu_sd_theta_log),\n",
    "                                self.N_mc)\n",
    "        Elbo = log_joint(x, theta, z)\\\n",
    "            - log_q(theta, z, self.nu_mean_theta, torch.exp(self.nu_sd_theta_log),\n",
    "                    nu_mean_z, nu_sd_z)\n",
    "        return torch.mean(Elbo)\n"
   ]
  },
  {
   "attachments": {},
   "cell_type": "markdown",
   "metadata": {},
   "source": [
    "### Run VI"
   ]
  },
  {
   "cell_type": "code",
   "execution_count": 499,
   "metadata": {},
   "outputs": [],
   "source": [
    "def run_vi(seed, n_iter_optimizer, use_avi=False, input_dim=1, hidden_dim=0, const_z=False,\n",
    "           print_output=False):\n",
    "    torch.manual_seed(seed)\n",
    "\n",
    "    model = Model(input_dim, use_avi, hidden_dim, const_z).to(device)\n",
    "\n",
    "    optimizer = torch.optim.Adam(model.parameters(), lr = 1e-3)\n",
    "    loss_saved = torch.empty(n_iter_optimizer)\n",
    "\n",
    "    start_time = time.time()\n",
    "    for i in range(n_iter_optimizer):\n",
    "            loss = - model.compute_elbo(x.to(device))\n",
    "            optimizer.zero_grad()\n",
    "            loss.backward()\n",
    "            optimizer.step()\n",
    "            loss_saved[i] = loss.data\n",
    "            if (i % 1000 == 0 and print_output):\n",
    "                print(\"loss\", loss_saved[i])\n",
    "    end_time = time.time()\n",
    "    run_time = end_time - start_time\n",
    "\n",
    "    return loss_saved, model, run_time"
   ]
  },
  {
   "cell_type": "code",
   "execution_count": null,
   "metadata": {},
   "outputs": [],
   "source": [
    "plt.style.use('seaborn-white')  # seaborn-v0_8-white\n",
    "\n",
    "params = {'axes.labelsize': 18,'axes.titlesize':25, 'legend.fontsize': 15, 'xtick.labelsize': 15,\n",
    "          'ytick.labelsize': 15}\n",
    "plt.rcParams.update(params)\n",
    "\n",
    "linewidth = 4"
   ]
  },
  {
   "cell_type": "code",
   "execution_count": null,
   "metadata": {},
   "outputs": [],
   "source": [
    "# manual examine a few tuning parameters for A-VI.\n",
    "if (False):\n",
    "    seed = 2012\n",
    "    n_iter_optimizer = int(30e3)\n",
    "\n",
    "    n_method = 9\n",
    "    loss_all = torch.empty((n_method, n_iter_optimizer))\n",
    "\n",
    "    loss_all[0,:], model_fvi = run_vi(seed, n_iter_optimizer)\n",
    "    loss_all[1,:], model_const = run_vi(seed, n_iter_optimizer, const_z=True)\n",
    "    loss_all[2,:], model_avi_4 = run_vi(seed, n_iter_optimizer, use_avi=True, hidden_dim=4)\n",
    "    loss_all[3,:], _ = run_vi(seed, n_iter_optimizer, use_avi=True, hidden_dim=6)\n",
    "    loss_all[4,:], model_avi_10 = run_vi(seed, n_iter_optimizer, use_avi=True, hidden_dim=10)\n",
    "    loss_all[5,:], model_av2_1 = run_vi(seed, n_iter_optimizer, use_avi=True, input_dim=2, hidden_dim=1)\n",
    "    loss_all[6,:], model_av2_2 = run_vi(seed, n_iter_optimizer, use_avi=True, input_dim=2, hidden_dim=2)\n",
    "    loss_all[7,:], model_av2_3 = run_vi(seed, n_iter_optimizer, use_avi=True, input_dim=2, hidden_dim=3)\n",
    "    loss_all[8,:], model_av2_4 = run_vi(seed, n_iter_optimizer, use_avi=True, input_dim=2, hidden_dim=4)\n",
    "    loss_x2k6, _ = run_vi(2013, n_iter_optimizer, use_avi=True, input_dim=2, hidden_dim=6)\n",
    "    loss_x2k10, _ = run_vi(2013, n_iter_optimizer, use_avi=True, input_dim=2, hidden_dim=10)\n",
    "    loss_x1k20, _ = run_vi(2013, n_iter_optimizer, use_avi=True, input_dim=1, hidden_dim=20)\n",
    "    \n",
    "    algo_names = ['F-VI', 'const', 'n=1, k=4', 'n=1, k=6', 'n=1, k=10', 'n=2, k=4']\n",
    "\n",
    "    plt.plot(loss_all[0,:] + min_elbo, color = 'black', label = 'F-VI', linewidth = linewidth)\n",
    "    plt.plot(loss_all[1,:] + min_elbo, color = 'red', label = 'const', linewidth = linewidth)\n",
    "    plt.plot(loss_x1k20 + min_elbo, alpha = 0.5, label = \"n=1, k=20\", linewidth = linewidth)\n",
    "    plt.plot(loss_all[8,:] + min_elbo, alpha = 0.5, label = \"n=2, k=4\", linewidth = linewidth)\n",
    "\n",
    "    plt.gca().invert_yaxis()\n",
    "    plt.legend()\n",
    "    plt.yscale(\"log\")\n",
    "    plt.xscale(\"log\")\n",
    "    plt.ylabel(\"Elbo\")\n",
    "    plt.grid(which = 'major', visible = 'true', c = 'grey', alpha = 0.25)\n",
    "\n",
    "    plt.savefig(\"to_discuss/k_vae_time_series.pdf\", bbox_inches = 'tight')"
   ]
  },
  {
   "attachments": {},
   "cell_type": "markdown",
   "metadata": {},
   "source": [
    "### Run experiment"
   ]
  },
  {
   "cell_type": "code",
   "execution_count": 530,
   "metadata": {},
   "outputs": [],
   "source": [
    "def run_experiment(seed, n_iter_optimizer, nn_widths, nn_inputs):\n",
    "    loss_all = np.empty((n_iter_optimizer, 2 + nn_widths.size))\n",
    "    saved_times = np.empty(2 + nn_widths.size)\n",
    "\n",
    "    loss_all[:,0], _, saved_times[0] = run_vi(seed, n_iter_optimizer)  # FVI\n",
    "    loss_all[:,1], _, saved_times[1] = run_vi(seed, n_iter_optimizer, const_z=True)\n",
    "\n",
    "    for i in range(nn_widths.size):\n",
    "        loss_all[:,i+2], _, saved_times[2] = run_vi(seed, n_iter_optimizer, use_avi=True,\n",
    "                                                    input_dim=nn_inputs[i],\n",
    "                                                    hidden_dim=nn_widths[i])\n",
    "    \n",
    "    np.save(\"deliv/timeseries_loss_\" + str(seed), loss_all)\n",
    "    np.save(\"deliv/timeseries_time_\" + str(seed), saved_times)\n"
   ]
  },
  {
   "cell_type": "code",
   "execution_count": 504,
   "metadata": {},
   "outputs": [
    {
     "name": "stdout",
     "output_type": "stream",
     "text": [
      "seed  2013\n",
      "seed  2014\n",
      "seed  2015\n",
      "seed  2016\n",
      "seed  2017\n",
      "seed  2018\n",
      "seed  2019\n",
      "seed  2020\n",
      "seed  2021\n",
      "seed  2022\n"
     ]
    }
   ],
   "source": [
    "n_iter_optimizer = int(30e3)\n",
    "\n",
    "nn_widths = np.array([4, 6, 10, 20, 2, 4, 6, 10])\n",
    "nn_inputs = np.array([1, 1, 1, 1, 2, 2, 2, 2])\n",
    "\n",
    "init_seed = 2013\n",
    "for i in range(10):\n",
    "    seed = init_seed + i\n",
    "    print(\"seed \", seed)\n",
    "    run_experiment(seed, n_iter_optimizer, nn_widths, nn_inputs)\n"
   ]
  },
  {
   "attachments": {},
   "cell_type": "markdown",
   "metadata": {},
   "source": [
    "### Analyze results"
   ]
  },
  {
   "cell_type": "code",
   "execution_count": 41,
   "metadata": {},
   "outputs": [
    {
     "name": "stderr",
     "output_type": "stream",
     "text": [
      "/tmp/ipykernel_773600/4224304255.py:1: MatplotlibDeprecationWarning: The seaborn styles shipped by Matplotlib are deprecated since 3.6, as they no longer correspond to the styles shipped by seaborn. However, they will remain available as 'seaborn-v0_8-<style>'. Alternatively, directly use the seaborn API instead.\n",
      "  plt.style.use('seaborn-white')  # seaborn-v0_8-white\n"
     ]
    }
   ],
   "source": [
    "plt.style.use('seaborn-white')  # seaborn-v0_8-white\n",
    "\n",
    "params = {'axes.labelsize': 18,'axes.titlesize':25, 'legend.fontsize': 20, 'xtick.labelsize': 15,\n",
    "          'ytick.labelsize': 15}\n",
    "plt.rcParams.update(params)"
   ]
  },
  {
   "cell_type": "code",
   "execution_count": 4,
   "metadata": {},
   "outputs": [],
   "source": [
    "seed = 2013\n",
    "loss_all = np.load(\"deliv/timeseries_loss_\" + str(seed) + \".npy\")"
   ]
  },
  {
   "cell_type": "code",
   "execution_count": 10,
   "metadata": {},
   "outputs": [],
   "source": [
    "nn_widths = np.array([4, 6, 10, 20, 2, 4, 6, 10])\n",
    "nn_inputs = np.array([1, 1, 1, 1, 2, 2, 2, 2])"
   ]
  },
  {
   "cell_type": "code",
   "execution_count": 6,
   "metadata": {},
   "outputs": [
    {
     "data": {
      "image/png": "[encoded data removed]",
      "text/plain": [
       "<Figure size 640x480 with 1 Axes>"
      ]
     },
     "metadata": {},
     "output_type": "display_data"
    }
   ],
   "source": [
    "linewidth=4\n",
    "plt.plot(loss_all[:,0], color = 'black', label = 'F-VI', linewidth = linewidth)\n",
    "plt.plot(loss_all[:,1], color = 'red', label = 'Const', linewidth = linewidth)\n",
    "plt.plot(loss_all[:,5], alpha = 0.5, label = \"i=1, k=20\", linewidth = linewidth)\n",
    "plt.plot(loss_all[:,7], alpha = 0.5, label = \"i=2, k=4\", linewidth = linewidth)\n",
    "\n",
    "plt.legend()\n",
    "plt.yscale(\"log\")\n",
    "plt.xscale(\"log\")\n",
    "plt.gca().invert_yaxis()\n",
    "plt.ylabel(\"Elbo\")\n",
    "plt.grid(which = 'major', visible = 'true', c = 'grey', alpha = 0.25)\n",
    "\n",
    "plt.savefig(\"to_discuss/k_vae_time_series.pdf\", bbox_inches = 'tight')\n"
   ]
  },
  {
   "cell_type": "code",
   "execution_count": 11,
   "metadata": {},
   "outputs": [],
   "source": [
    "def mean_window(loss, index_center, window):\n",
    "    return np.mean(loss[(index_center - window):(index_center + window)])\n",
    "\n",
    "def sd_window(loss, index_center, window):\n",
    "    return np.std(loss[(index_center - window):(index_center + window)]) \n"
   ]
  },
  {
   "cell_type": "code",
   "execution_count": 12,
   "metadata": {},
   "outputs": [],
   "source": [
    "n_iter_optimizer = int(30000)"
   ]
  },
  {
   "cell_type": "code",
   "execution_count": 13,
   "metadata": {},
   "outputs": [
    {
     "name": "stdout",
     "output_type": "stream",
     "text": [
      "FVI:  553.0837867431641  +/-  0.06985303834506525\n",
      "Const:  2933.555895751953  +/-  6.7674346535909455\n",
      "k = 4:  891.9649091796875  +/-  0.06985303834506525\n",
      "k = 6:  892.8204157714844  +/-  6.7674346535909455\n",
      "k = 10:  886.1229639892579  +/-  2.5709975260837434\n",
      "k = 20:  886.220542541504  +/-  2.5966791410048455\n",
      "k = 2:  2933.6476901855467  +/-  2.588699204945348\n",
      "k = 4:  553.0766517333984  +/-  2.5385311546707383\n",
      "k = 6:  553.0869779052734  +/-  7.0208861080178\n",
      "k = 10:  553.116260925293  +/-  0.10228968027303144\n"
     ]
    }
   ],
   "source": [
    "window = 500\n",
    "index_center = n_iter_optimizer - window\n",
    "print(\"FVI: \", mean_window(loss_all[:, 0], index_center, window), \" +/- \",\n",
    "      sd_window(loss_all[:, 0], index_center, window))\n",
    "\n",
    "print(\"Const: \", mean_window(loss_all[:, 1], index_center, window), \" +/- \",\n",
    "      sd_window(loss_all[:, 1], index_center, window))\n",
    "\n",
    "for i in range(nn_widths.size):\n",
    "  print(\"k = \" + str(nn_widths[i]) + \": \", mean_window(loss_all[:, i + 2],\n",
    "        index_center, window), \" +/- \",\n",
    "        sd_window(loss_all[:, i], index_center, window))\n"
   ]
  },
  {
   "cell_type": "code",
   "execution_count": 14,
   "metadata": {},
   "outputs": [],
   "source": [
    "def iter_convergence(loss, rel_tol = 0.01, init_iteration = 10, window = 10,\n",
    "                     grid = 10, max_iteration = 20000, oracle = True, set_target = 0):\n",
    "    iteration = init_iteration\n",
    "    tol = 0\n",
    "    diff = tol + 1\n",
    "    while(diff > tol and iteration < max_iteration):\n",
    "        iteration += grid\n",
    "        if (oracle):\n",
    "            target = set_target\n",
    "        else:\n",
    "            target = mean_window(loss, iteration - grid, window)\n",
    "\n",
    "        tol = rel_tol * abs(target)\n",
    "        diff = abs(mean_window(loss, iteration, window) - target)\n",
    "        # print(\"diff:\", diff)\n",
    "        # print(\"tol:\", tol)\n",
    "    return iteration\n",
    "\n",
    "# Q: should we report convergence to F-VI's solution or for each individual solution?\n",
    "def iter_conv_wrapper(loss, loss_benchmark, rel_tol = 0.01, window = 10):\n",
    "    return iter_convergence(loss, oracle = True, rel_tol = rel_tol,\n",
    "                            set_target = mean_window(loss_benchmark, 19500, window))\n"
   ]
  },
  {
   "cell_type": "code",
   "execution_count": 15,
   "metadata": {},
   "outputs": [],
   "source": [
    "# Get results across multiple seeds\n",
    "init_seed = 2013\n",
    "num_seed = 10\n",
    "init_manifold = False\n",
    "n_algorithms = 10\n",
    "num_tol = 3\n",
    "rel_tol = np.array([0.5, 0.1, 0.01])\n",
    "\n",
    "iter_to_conv = np.empty((num_seed, n_algorithms, num_tol))\n",
    "Elbo_final = np.empty((num_seed, n_algorithms)) \n",
    "\n",
    "for i in range(num_seed):\n",
    "    loss_all = np.load(\"deliv/timeseries_loss_\" + str(init_seed + i) + \".npy\")\n",
    "\n",
    "    for j in range(n_algorithms):\n",
    "        Elbo_final[i, j] = mean_window(loss_all[:, j], n_iter_optimizer - window, window)\n",
    "        for k in range(num_tol):\n",
    "            # Use F-VI as the benchmark for the asymptotic ELBO\n",
    "            iter_to_conv[i, j, k] = iter_conv_wrapper(loss_all[:, j], loss_all[:, 0], rel_tol[k])\n"
   ]
  },
  {
   "cell_type": "code",
   "execution_count": 16,
   "metadata": {},
   "outputs": [
    {
     "name": "stdout",
     "output_type": "stream",
     "text": [
      "mean iter:\n",
      " [[14405. 15925. 17595.]\n",
      " [20000. 20000. 20000.]\n",
      " [20000. 20000. 20000.]\n",
      " [20000. 20000. 20000.]\n",
      " [20000. 20000. 20000.]\n",
      " [20000. 20000. 20000.]\n",
      " [ 5405.  6870.  9085.]\n",
      " [ 4780.  6305.  7780.]\n",
      " [ 3360.  5025.  7235.]\n",
      " [ 3210.  4650.  7145.]]\n",
      "min iter:\n",
      " [[14240. 15750. 17330.]\n",
      " [20000. 20000. 20000.]\n",
      " [20000. 20000. 20000.]\n",
      " [20000. 20000. 20000.]\n",
      " [20000. 20000. 20000.]\n",
      " [20000. 20000. 20000.]\n",
      " [ 3330.  5070.  7500.]\n",
      " [  240.  2220.  3620.]\n",
      " [  310.  3240.  5460.]\n",
      " [  430.  2160.  3470.]]\n",
      "max iter:\n",
      " [[14530. 16060. 17800.]\n",
      " [20000. 20000. 20000.]\n",
      " [20000. 20000. 20000.]\n",
      " [20000. 20000. 20000.]\n",
      " [20000. 20000. 20000.]\n",
      " [20000. 20000. 20000.]\n",
      " [20000. 20000. 20000.]\n",
      " [15060. 17490. 20000.]\n",
      " [ 6750.  8050.  9200.]\n",
      " [ 6520.  7820.  9510.]]\n"
     ]
    }
   ],
   "source": [
    "print(\"mean iter:\\n\", np.median(iter_to_conv, axis = 0))\n",
    "print(\"min iter:\\n\", np.min(iter_to_conv, axis = 0))\n",
    "print(\"max iter:\\n\", np.max(iter_to_conv, axis = 0))"
   ]
  },
  {
   "cell_type": "code",
   "execution_count": 17,
   "metadata": {},
   "outputs": [
    {
     "data": {
      "text/plain": [
       "array([ 553.07710651, 2933.55018848,  891.96490918,  891.98230627,\n",
       "        886.06733527,  885.16987256,  553.04929572,  553.06468109,\n",
       "        553.07584314,  553.06945428])"
      ]
     },
     "execution_count": 17,
     "metadata": {},
     "output_type": "execute_result"
    }
   ],
   "source": [
    "np.nanmin(Elbo_final, axis = 0)"
   ]
  },
  {
   "cell_type": "code",
   "execution_count": 18,
   "metadata": {},
   "outputs": [],
   "source": [
    "algo_names = np.array(\"F-VI\")\n",
    "algo_names = np.append(algo_names, \"const\")\n",
    "for i in range(n_algorithms - 2):\n",
    "    algo_names = np.append(algo_names, \"i=\" + str(nn_inputs[i]) + \",k=\" + str(nn_widths[i]))"
   ]
  },
  {
   "cell_type": "code",
   "execution_count": 39,
   "metadata": {},
   "outputs": [],
   "source": [
    "iter_to_conv_plot = np.delete(iter_to_conv[:,:,2],2,axis=1)\n",
    "algo_names = np.delete(algo_names,2)"
   ]
  },
  {
   "cell_type": "code",
   "execution_count": 44,
   "metadata": {},
   "outputs": [
    {
     "data": {
      "image/png": "[encoded data removed]",
      "text/plain": [
       "<Figure size 640x480 with 1 Axes>"
      ]
     },
     "metadata": {},
     "output_type": "display_data"
    }
   ],
   "source": [
    "plt.boxplot(iter_to_conv_plot, labels=algo_names, patch_artist=True,\n",
    "             boxprops = dict(facecolor = \"lightblue\"),\n",
    "             vert=False)\n",
    "plt.xscale(\"log\")\n",
    "plt.grid(which='minor', visible='true', c='grey', alpha = 0.25)\n",
    "plt.gca().invert_yaxis()\n",
    "\n",
    "# plt.xticks(rotation=45)\n",
    "plt.title(\"Saw time-series\")\n",
    "# plt.ylabel(\"VI algorithm\")\n",
    "plt.xlabel(\"Number of iterations to convergence\")\n",
    "\n",
    "plt.savefig(\"to_discuss/conv_sawtime_boxplot.pdf\", bbox_inches='tight')\n",
    "plt.show()"
   ]
  }
 ],
 "metadata": {
  "kernelspec": {
   "display_name": "Python 3",
   "language": "python",
   "name": "python3"
  },
  "language_info": {
   "codemirror_mode": {
    "name": "ipython",
    "version": 3
   },
   "file_extension": ".py",
   "mimetype": "text/x-python",
   "name": "python",
   "nbconvert_exporter": "python",
   "pygments_lexer": "ipython3",
   "version": "3.9.15"
  },
  "vscode": {
   "interpreter": {
    "hash": "5b7e68a6523d9654d119e3ab45bb2c5c51f02effa6643d52b99addcee48c066f"
   }
  }
 },
 "nbformat": 4,
 "nbformat_minor": 2
}
