{
 "cells": [
  {
   "attachments": {},
   "cell_type": "markdown",
   "metadata": {},
   "source": [
    "## Bayesian neural network on simulated data"
   ]
  },
  {
   "cell_type": "code",
   "execution_count": 433,
   "metadata": {},
   "outputs": [],
   "source": [
    "import torch\n",
    "import torch.nn as nn\n",
    "import torch.distributions as dist\n",
    "\n",
    "import numpy as np\n",
    "\n",
    "from tqdm import tqdm\n",
    "from torchvision.utils import save_image, make_grid\n",
    "\n",
    "from torch.optim import Adam\n",
    "\n",
    "import matplotlib.pyplot as plt\n",
    "%matplotlib inline\n",
    "plt.style.use('ggplot')\n",
    "\n",
    "import time"
   ]
  },
  {
   "cell_type": "code",
   "execution_count": 434,
   "metadata": {},
   "outputs": [],
   "source": [
    "device = torch.device(\"cuda:0\" if torch.cuda.is_available() else \"cpu\")"
   ]
  },
  {
   "attachments": {},
   "cell_type": "markdown",
   "metadata": {},
   "source": [
    "### Simulate data"
   ]
  },
  {
   "cell_type": "code",
   "execution_count": 564,
   "metadata": {},
   "outputs": [],
   "source": [
    "# Let's use latent_dim = 1 and x_dim = 1 so that we may plot the data.\n",
    "latent_dim = 1\n",
    "hidden_dim = 10\n",
    "x_dim = 1\n",
    "use_bias = True"
   ]
  },
  {
   "cell_type": "code",
   "execution_count": 715,
   "metadata": {},
   "outputs": [],
   "source": [
    "torch.manual_seed(1954)\n",
    "nObs = 100\n",
    "\n",
    "z = torch.randn((nObs, 1)) * 5\n",
    "x = 0.5 * z + 1 + torch.randn((nObs, 1))  # torch.sin(z) * z + z + torch.randn((nObs, 1))"
   ]
  },
  {
   "cell_type": "code",
   "execution_count": 716,
   "metadata": {},
   "outputs": [
    {
     "data": {
      "image/png": "[encoded data removed]",
      "text/plain": [
       "<Figure size 640x480 with 1 Axes>"
      ]
     },
     "metadata": {},
     "output_type": "display_data"
    }
   ],
   "source": [
    "plt.scatter(z.detach().numpy(), x.detach().numpy())\n",
    "plt.xlabel(\"z\")\n",
    "plt.ylabel(\"x\")\n",
    "plt.show()"
   ]
  },
  {
   "attachments": {},
   "cell_type": "markdown",
   "metadata": {},
   "source": [
    "## Build model"
   ]
  },
  {
   "cell_type": "code",
   "execution_count": 700,
   "metadata": {},
   "outputs": [],
   "source": [
    "def likelihood_NN(theta, z, latent_dim, hidden_dim, x_dim):\n",
    "    index_layer1 = latent_dim * hidden_dim\n",
    "    index_layer2 = index_layer1 + hidden_dim**2\n",
    "    index_out = index_layer2 + hidden_dim * 2 * x_dim\n",
    "    index_bias1 = index_out + hidden_dim\n",
    "    index_bias2 = index_bias1 + hidden_dim\n",
    "\n",
    "    # weights\n",
    "    W1 = theta[:index_layer1].reshape((hidden_dim, latent_dim))    \n",
    "    W2 = theta[index_layer1:index_layer2].reshape((hidden_dim, hidden_dim))   \n",
    "    W3 = theta[index_layer2:index_out].reshape((2 * x_dim, hidden_dim))\n",
    "\n",
    "    # bias\n",
    "    b1 = theta[index_out:index_bias1].reshape((hidden_dim))\n",
    "    b2 = theta[index_bias1:index_bias2].reshape((hidden_dim))\n",
    "    b3 = theta[index_bias2:].reshape((2 * x_dim))\n",
    "\n",
    "    LeakyRelu = nn.LeakyReLU(0.2)\n",
    "    h = LeakyRelu(torch.matmul(z, torch.t(W1)) + b1)\n",
    "    h = LeakyRelu(torch.matmul(h, torch.t(W2)) + b2)\n",
    "    out = torch.matmul(h, torch.t(W3)) + b3\n",
    "\n",
    "    # print(\"\\ttheta:\", torch.t(theta))\n",
    "\n",
    "    # print(\"\\tW1:\", W1)\n",
    "    # print(\"\\tW1:\", W2)\n",
    "    # print(\"\\tW1:\", W3)\n",
    "\n",
    "    # print(\"\\tb1:\", torch.t(b1))\n",
    "    # print(\"\\tb2:\", torch.t(b2))\n",
    "    # print(\"\\tb3:\", torch.t(b3))\n",
    "\n",
    "\n",
    "    return out\n"
   ]
  },
  {
   "cell_type": "code",
   "execution_count": 663,
   "metadata": {},
   "outputs": [],
   "source": [
    "# class likelihood_NN(nn.Module):\n",
    "#     def __init__(self, latent_dim, hidden_dim, x_dim, use_bias=True):\n",
    "#         super(likelihood_NN, self).__init__()\n",
    "\n",
    "#         self.latent_dim = latent_dim\n",
    "#         self.hidden_dim = hidden_dim\n",
    "#         self.x_dim = x_dim\n",
    "\n",
    "#         self.FC_hidden = nn.Linear(latent_dim, hidden_dim, bias = use_bias)\n",
    "#         self.FC_hidden2 = nn.Linear(hidden_dim, hidden_dim, bias = use_bias)\n",
    "#         self.FC_out = nn.Linear(hidden_dim, 2 * x_dim, bias = use_bias)\n",
    "\n",
    "#         self.LeakyRelu = nn.LeakyReLU(0.2)\n",
    "\n",
    "#     def forward(self, z, theta):\n",
    "#         self.set_weights(self, theta)\n",
    "#         h = self.LeakyRelu(self.FC_hidden(z))\n",
    "#         h = self.LeakyRelu(self.FC_hidden2(h))\n",
    "#         out = self.FC_out(h)\n",
    "\n",
    "#         return out\n",
    "    \n",
    "#     def set_weights(self, theta):\n",
    "#         index_layer1 = self.latent_dim * self.hidden_dim\n",
    "#         self.FC_hidden.weight.data =\\\n",
    "#             theta[:index_layer1].reshape((self.hidden_dim, self.latent_dim)).clone()\n",
    "#             # nn.Parameter(theta[:index_layer1].reshape((self.hidden_dim, self.latent_dim)))\n",
    "#         self.FC_hidden.requires_grad_(True)\n",
    "\n",
    "#         index_layer2 = index_layer1 + self.hidden_dim**2\n",
    "#         self.FC_hidden2.weight =\\\n",
    "#             nn.Parameter(theta[index_layer1:index_layer2].reshape((self.hidden_dim, self.hidden_dim)))\n",
    "#         self.FC_hidden2.requires_grad_(True)\n",
    "    \n",
    "#         index_mu = index_layer2 + self.hidden_dim * 2 * self.x_dim\n",
    "#         self.FC_out.weight =\\\n",
    "#             nn.Parameter(theta[index_layer2:index_mu].reshape((2 * self.x_dim, self.hidden_dim)))\n",
    "#         self.FC_out.requires_grad_(True)\n",
    "    \n",
    "#         # Set biases\n",
    "#         index_bias1 = index_mu + self.hidden_dim\n",
    "#         self.FC_hidden.bias = nn.Parameter(theta[index_mu:index_bias1].reshape((self.hidden_dim)))\n",
    "\n",
    "#         index_bias2 = index_bias1 + self.hidden_dim\n",
    "#         self.FC_hidden.bias = nn.Parameter(theta[index_bias1:index_bias2].reshape((self.hidden_dim)))\n",
    "\n",
    "#         self.FC_out.bias = nn.Parameter(theta[index_bias2:].reshape((2 * self.x_dim)))       \n",
    "\n"
   ]
  },
  {
   "cell_type": "code",
   "execution_count": 664,
   "metadata": {},
   "outputs": [],
   "source": [
    "class Encoder(nn.Module):\n",
    "     \n",
    "    def __init__(self, input_dim, hidden_dim, latent_dim):\n",
    "        super(Encoder, self).__init__()\n",
    "\n",
    "        self.n = input_dim\n",
    "        self.h = hidden_dim\n",
    "        self.p = latent_dim\n",
    "\n",
    "        self.FC_input = nn.Linear(self.n, self.h, bias = use_bias)\n",
    "        self.FC_input2 = nn.Linear(self.h, self.h, bias = use_bias)\n",
    "        self.FC_mean = nn.Linear(self.h, self.p, bias = use_bias)\n",
    "        self.FC_sd_log = nn.Linear(self.h, self.p, bias = use_bias)\n",
    "\n",
    "        self.LeakyRelu = nn.LeakyReLU(0.2)\n",
    "\n",
    "        self.training = False  # CHECK -- what does this line do?\n",
    "\n",
    "    def forward(self, x):\n",
    "        h_ = self.LeakyRelu(self.FC_input(x))\n",
    "        h_ = self.LeakyRelu(self.FC_input2(h_))\n",
    "        mean = self.FC_mean(h_)\n",
    "        sd_log = self.FC_sd_log(h_)\n",
    "\n",
    "        return mean, sd_log\n",
    "    \n",
    "    # def set_weights(self, theta):\n",
    "    #     # Set weights\n",
    "    #     index_layer1 = self.n * self.h\n",
    "    #     self.FC_input = nn.Parameter(theta[:index_layer1].reshape((self.h, self.n)))\n",
    "\n",
    "    #     index_layer2 = index_layer1 + self.h * self.h\n",
    "    #     self.FC_input2 = nn.Parameter(theta[index_layer1:index_layer2].reshape((self.h, self.h)))\n",
    "\n",
    "    #     index_mean = index_layer1 + self.h * self.p\n",
    "    #     self.FC_mean = nn.Parameter(theta[index_layer2:index_mean].reshape((self.p, self.h)))\n",
    "\n",
    "    #     # Set bias\n",
    "    #     index_bias1 = index_mean + self.h\n",
    "    #     self.FC_input.bias = nn.Parameter(theta[index_mean:index_bias1].reshape((self.h)))\n",
    "\n",
    "    #     index_bias2 = index_bias1 + self.h\n",
    "    #     self.FC_input.bias = nn.Parameter(theta[index_bias1:index_bias2].reshape((self.h)))\n",
    "\n",
    "    #     index_bias_mu = index_bias2 + self.p\n",
    "    #     self.FC_mean.bias = nn.Parameter(theta[index_bias2:index_bias_mu].reshape((self.p)))\n",
    "\n",
    "    #     index_bias_sd = index_bias_mu + self.p\n",
    "    #     self.FC_sd_log.bias = nn.Parameter(theta[index_bias_mu:index_bias_sd].reshape((self.p)))\n",
    "\n",
    "\n"
   ]
  },
  {
   "cell_type": "code",
   "execution_count": 665,
   "metadata": {},
   "outputs": [],
   "source": [
    "def log_joint(x, f_mean, f_var_rel, z, theta):\n",
    "    # f_var = torch.abs(f_var_rel)\n",
    "\n",
    "    # return -0.5 * torch.sum(z**2, dim=0) - 0.5 * torch.sum(theta**2, dim=0) \\\n",
    "    # return - torch.sum(torch.div((x - f_mean)**2, 2 * f_var) - torch.log(0.5 * f_var), dim=0)\n",
    "    return - torch.sum((x - f_mean)**2, dim=0)\n",
    "    # return - torch.sum(torch.div((x - f_mean)**2, 2 * f_var), dim=0)\n",
    "\n",
    "    # print(torch.t(f_mean))\n",
    "\n",
    "    # return - torch.sum(torch.div((x - f_mean)**2, 2 * f_var) - torch.log(0.5 * f_var), dim=0)\n",
    "\n",
    "    # return -0.5 * torch.sum(z**2, dim=0)\\\n",
    "    # - torch.sum(torch.div((x - f_mean)**2, 2 * f_var) - torch.log(0.5 * f_var), dim=0) \\\n",
    "    # - 0.5 * torch.sum(theta**2, dim=0)\\\n",
    "\n",
    "def log_q(theta, z, nu_mean_theta, nu_sd_theta, nu_mean_z, nu_sd_z):\n",
    "    log_q_theta = - torch.sum(torch.log(nu_sd_theta) - 1 / (2 * nu_sd_theta**2)\\\n",
    "                    * (theta - nu_mean_theta)**2)\n",
    "    log_q_z = torch.sum(- torch.log(nu_sd_z) - 1 / (2 * nu_sd_z**2)\\\n",
    "                          * (z - nu_mean_z)**2, dim = 0)\n",
    "    return log_q_z + log_q_theta\n"
   ]
  },
  {
   "cell_type": "code",
   "execution_count": 732,
   "metadata": {},
   "outputs": [],
   "source": [
    "class Model(nn.Module):\n",
    "    def __init__(self, x_dim, z_dim, hidden_dim, n_obs, use_avi = True, inference_dim = 0,\n",
    "                 const_z=False, mc_samples=10):\n",
    "        \"\"\"\n",
    "        A class to specify an ELBO and store variational parameters.\n",
    "        \"\"\"\n",
    "        super(Model, self).__init__()\n",
    "        \n",
    "        self.use_avi = use_avi\n",
    "        self.const_z = const_z\n",
    "\n",
    "        self.x_dim = x_dim\n",
    "        self.z_dim = z_dim\n",
    "        self.n_obs = n_obs\n",
    "        self.hidden_dim = hidden_dim\n",
    "        self.inference_dim = inference_dim\n",
    "\n",
    "        # Theta stores the weights and biases of the likelihood network\n",
    "        self.dim_theta = hidden_dim * (z_dim + hidden_dim + 2 * x_dim + 2) + 2 * x_dim\n",
    "        # Variational parameters for theta\n",
    "        self.nu_mean_theta = torch.nn.Parameter(torch.randn(self.dim_theta))\n",
    "        self.nu_sd_log_theta = torch.nn.Parameter(torch.randn(self.dim_theta))\n",
    "        # self.nu_mean_theta = torch.nn.Parameter(torch.zeros(self.dim_theta))\n",
    "        # self.nu_sd_log_theta = torch.nn.Parameter(torch.zeros(self.dim_theta))\n",
    "\n",
    "        # Variational parameters for q(z)\n",
    "        if (const_z):\n",
    "            self.nu_mean_z = torch.nn.Parameter(torch.randn(self.dim_z))\n",
    "            self.nu_sd_log_z = torch.nn.Parameter(torch.randn(self.dim_z))\n",
    "        elif (use_avi):\n",
    "            self.Encoder = Encoder(x_dim, inference_dim, z_dim)\n",
    "        else:  # F-VI\n",
    "            self.nu_mean_z = torch.nn.Parameter(torch.randn(n_obs, z_dim))\n",
    "            self.nu_sd_z_log = torch.nn.Parameter(torch.randn(n_obs, z_dim))\n",
    "            \n",
    "\n",
    "        self.mc_samples = mc_samples\n",
    "\n",
    "    def reparam(self, nu_mean_z, nu_sd_z, nu_mean_theta, nu_sd_theta, mc_samples):\n",
    "        epsilon = torch.randn((mc_samples, self.n_obs, self.z_dim)).to(device)\n",
    "        z = nu_mean_z + nu_sd_z * epsilon\n",
    "        \n",
    "        epsilon_theta = torch.randn((mc_samples, self.dim_theta)).to(device) * 0.001\n",
    "        theta = nu_mean_theta + nu_sd_theta * epsilon_theta\n",
    "\n",
    "        return z, theta\n",
    "    \n",
    "    def variational_z(self, x):\n",
    "        if (self.use_avi):\n",
    "            nu_mean_z, nu_sd_z_log = self.Encoder(x)\n",
    "        elif(self.const_z):\n",
    "            nu_mean_z = self.nu_mean_z.repeat((self.n_obs, 1))\n",
    "            nu_sd_z_log = self.nu_sd_z_log.repeat((self.n_obs, 1))\n",
    "        else:\n",
    "            nu_mean_z = self.nu_mean_z\n",
    "            nu_sd_z_log = self.nu_sd_z_log\n",
    "        \n",
    "        return nu_mean_z, nu_sd_z_log\n",
    "    \n",
    "    def compute_elbo(self, x):\n",
    "        nu_mean_z, nu_sd_z_log = self.variational_z(x)\n",
    "        z_arg = z.reshape(self.n_obs, self.z_dim, 1).to(device)\n",
    "        f_out = likelihood_NN(self.nu_mean_theta, z_arg, self.z_dim, self.hidden_dim, self.x_dim)\n",
    "        f_mean = f_out[0, :, :self.x_dim]\n",
    "\n",
    "        #print(\"z_arg:\", torch.t(z_arg[:,:,0]))\n",
    "\n",
    "        return torch.sum((x - f_mean)**2)\n",
    "\n",
    "        # return log_joint(x, f_mean, None, None, None)\n",
    "\n",
    "\n",
    "        # z_eps, theta = self.reparam(nu_mean_z, torch.exp(nu_sd_z_log),\n",
    "        #                         self.nu_mean_theta, torch.exp(self.nu_sd_log_theta),\n",
    "        #                         self.mc_samples)\n",
    "        \n",
    "        # Elbo = 0\n",
    "        # for i in range(self.mc_samples):\n",
    "        #     # likelihood_nn = likelihood_NN(self.z_dim, self.hidden_dim, self.x_dim).to(device)\n",
    "        #     # likelihood_nn.set_weights(theta[i])\n",
    "        #     # f_out = likelihood_nn.forward(z[i])\n",
    "        #     # f_out = likelihood_nn(z[i])\n",
    "        #     # print(likelihood_nn.FC_hidden.grad)\n",
    "\n",
    "        #     # z_arg = z[i].reshape(self.n_obs, self.z_dim, 1)\n",
    "        #     z_arg = z.reshape(self.n_obs, self.z_dim, 1).to(device)\n",
    "\n",
    "        #     # f_out = likelihood_NN(theta[i], z_arg, self.z_dim, self.hidden_dim, self.x_dim)\n",
    "        #     f_out = likelihood_NN(self.nu_mean_theta, z_arg, self.z_dim, self.hidden_dim, self.x_dim)\n",
    "\n",
    "        #     # print(\"f_out\", f_out.shape)\n",
    "\n",
    "        #     f_mean = f_out[0, :, :self.x_dim]\n",
    "        #     f_sd_log = f_out[0, :, self.x_dim:]\n",
    "\n",
    "        #     nu_sd_theta = torch.exp(self.nu_sd_log_theta).to(device)\n",
    "        #     nu_sd_z = torch.exp(nu_sd_z_log).to(device)\n",
    "\n",
    "        #     Elbo += log_joint(x, f_mean, f_sd_log, z[i], theta[i]) # \\\n",
    "        #         # - log_q(theta[i], z[i],\n",
    "        #         #         self.nu_mean_theta, nu_sd_theta, nu_mean_z, nu_sd_z)\n",
    "        \n",
    "        # return Elbo / self.mc_samples\n",
    "    \n",
    "    def variational_parameters(self, x=None):\n",
    "        \"\"\"\n",
    "        Utility function to return (and evaluate if using A-VI) variational parameters.\n",
    "        \"\"\"\n",
    "        nu_mean_z, nu_sd_z_log = self.variational_z(x)\n",
    "        return self.nu_mean_theta, self.nu_sd_log_theta, nu_mean_z, nu_sd_z_log\n"
   ]
  },
  {
   "cell_type": "code",
   "execution_count": 734,
   "metadata": {},
   "outputs": [],
   "source": [
    "def run_vi(seed, model, x, n_iter, lr=1e-3):\n",
    "\n",
    "    torch.manual_seed(seed)\n",
    "    optimizer = Adam(model.parameters(), lr=lr)\n",
    "\n",
    "    print(\"Running Variational Inference\")\n",
    "    model.train()\n",
    "    loss_saved = np.empty(n_iter)\n",
    "\n",
    "    # print(model.nu_mean_theta.data)\n",
    "\n",
    "    start_time = time.time()\n",
    "    for i in range(n_iter):\n",
    "        # import pdb; pdb.set_trace()\n",
    "        optimizer.zero_grad()\n",
    "        loss = model.compute_elbo(x)\n",
    "        loss.backward()\n",
    "        optimizer.step()\n",
    "\n",
    "        loss_saved[i] = loss.data\n",
    "\n",
    "        if (i % 100 == 0):\n",
    "            print(\"\\tIter:\", i, \"\\tloss: \", loss.data)\n",
    "            print(\"\\ttheta:\", model.nu_mean_theta[0])\n",
    "    \n",
    "    end_time = time.time()\n",
    "    run_time = end_time - start_time\n",
    "\n",
    "    # print(model.nu_mean_theta.data)\n",
    "\n",
    "    return loss_saved, run_time\n"
   ]
  },
  {
   "attachments": {},
   "cell_type": "markdown",
   "metadata": {},
   "source": [
    "### Run model\n",
    "Let's train a BNN!!"
   ]
  },
  {
   "cell_type": "code",
   "execution_count": 735,
   "metadata": {},
   "outputs": [],
   "source": [
    "hidden_dim=2"
   ]
  },
  {
   "cell_type": "code",
   "execution_count": 742,
   "metadata": {},
   "outputs": [
    {
     "name": "stdout",
     "output_type": "stream",
     "text": [
      "Running Variational Inference\n",
      "\tIter: 0 \tloss:  tensor(632.5449, device='cuda:0')\n",
      "\ttheta: tensor(0.8107, device='cuda:0', grad_fn=<SelectBackward0>)\n",
      "\tIter: 100 \tloss:  tensor(632.4858, device='cuda:0')\n",
      "\ttheta: tensor(0.8170, device='cuda:0', grad_fn=<SelectBackward0>)\n",
      "\tIter: 200 \tloss:  tensor(632.4858, device='cuda:0')\n",
      "\ttheta: tensor(0.8169, device='cuda:0', grad_fn=<SelectBackward0>)\n",
      "\tIter: 300 \tloss:  tensor(632.4858, device='cuda:0')\n",
      "\ttheta: tensor(0.8169, device='cuda:0', grad_fn=<SelectBackward0>)\n",
      "\tIter: 400 \tloss:  tensor(632.4858, device='cuda:0')\n",
      "\ttheta: tensor(0.8169, device='cuda:0', grad_fn=<SelectBackward0>)\n",
      "\tIter: 500 \tloss:  tensor(632.4858, device='cuda:0')\n",
      "\ttheta: tensor(0.8169, device='cuda:0', grad_fn=<SelectBackward0>)\n",
      "\tIter: 600 \tloss:  tensor(632.4858, device='cuda:0')\n",
      "\ttheta: tensor(0.8169, device='cuda:0', grad_fn=<SelectBackward0>)\n",
      "\tIter: 700 \tloss:  tensor(632.4858, device='cuda:0')\n",
      "\ttheta: tensor(0.8169, device='cuda:0', grad_fn=<SelectBackward0>)\n",
      "\tIter: 800 \tloss:  tensor(632.4858, device='cuda:0')\n",
      "\ttheta: tensor(0.8169, device='cuda:0', grad_fn=<SelectBackward0>)\n",
      "\tIter: 900 \tloss:  tensor(632.4858, device='cuda:0')\n",
      "\ttheta: tensor(0.8169, device='cuda:0', grad_fn=<SelectBackward0>)\n"
     ]
    }
   ],
   "source": [
    "n_iter = 1000\n",
    "x = x.to(device)\n",
    "\n",
    "model = Model(x_dim, latent_dim, hidden_dim, nObs, use_avi=False, inference_dim=6, mc_samples=1).to(device)\n",
    "loss_saved, run_time = run_vi(seed=1989, model=model, x=x, n_iter=n_iter, lr=1e-3)\n"
   ]
  },
  {
   "cell_type": "code",
   "execution_count": 739,
   "metadata": {},
   "outputs": [
    {
     "data": {
      "text/plain": [
       "[<matplotlib.lines.Line2D at 0x7f5b3aa99130>]"
      ]
     },
     "execution_count": 739,
     "metadata": {},
     "output_type": "execute_result"
    },
    {
     "data": {
      "image/png": "[encoded data removed]",
      "text/plain": [
       "<Figure size 640x480 with 1 Axes>"
      ]
     },
     "metadata": {},
     "output_type": "display_data"
    }
   ],
   "source": [
    "plt.plot(loss_saved)\n",
    "#plt.yscale(\"log\")"
   ]
  },
  {
   "cell_type": "code",
   "execution_count": 688,
   "metadata": {},
   "outputs": [
    {
     "data": {
      "text/plain": [
       "<matplotlib.legend.Legend at 0x7f5b4a184d00>"
      ]
     },
     "execution_count": 688,
     "metadata": {},
     "output_type": "execute_result"
    },
    {
     "data": {
      "image/png": "[encoded data removed]",
      "text/plain": [
       "<Figure size 640x480 with 1 Axes>"
      ]
     },
     "metadata": {},
     "output_type": "display_data"
    }
   ],
   "source": [
    "# Compare reconstructed zhat to original z\n",
    "plt.plot(z, label=\"z\")\n",
    "zhat = model.nu_mean_z.cpu().data\n",
    "plt.plot(zhat, label=\"zhat\")\n",
    "plt.legend(loc=\"best\")"
   ]
  },
  {
   "cell_type": "code",
   "execution_count": 740,
   "metadata": {},
   "outputs": [
    {
     "data": {
      "text/plain": [
       "<matplotlib.legend.Legend at 0x7f5b3aa018e0>"
      ]
     },
     "execution_count": 740,
     "metadata": {},
     "output_type": "execute_result"
    },
    {
     "data": {
      "image/png": "[encoded data removed]",
      "text/plain": [
       "<Figure size 640x480 with 1 Axes>"
      ]
     },
     "metadata": {},
     "output_type": "display_data"
    }
   ],
   "source": [
    "xhat = likelihood_NN(model.nu_mean_theta, z.to(device), model.z_dim, model.hidden_dim, model.x_dim)\n",
    "xhat = xhat.cpu().detach().numpy()\n",
    "xhat = xhat[:,0]\n",
    "\n",
    "plt.scatter(x=z, y=xhat, label = \"xhat\")\n",
    "plt.scatter(x=z, y=x.cpu(), label=\"x\")\n",
    "plt.legend(loc=\"best\")"
   ]
  },
  {
   "cell_type": "code",
   "execution_count": 741,
   "metadata": {},
   "outputs": [
    {
     "name": "stdout",
     "output_type": "stream",
     "text": [
      "nu_mean_theta tensor([-0.0411, -0.0093,  0.0397,  0.0071, -0.0109, -0.0019,  0.0219,  0.0553,\n",
      "         0.0000,  0.0000,  0.0339,  0.0077, -0.0063,  0.0017, -0.0018,  0.0000],\n",
      "       device='cuda:0')\n",
      "nu_sd_log_theta None\n",
      "nu_mean_z None\n",
      "nu_sd_z_log None\n"
     ]
    }
   ],
   "source": [
    "for name, param in model.named_parameters():\n",
    "    if param.requires_grad:\n",
    "        print (name, param.grad)"
   ]
  }
 ],
 "metadata": {
  "kernelspec": {
   "display_name": "nRhatVirenv",
   "language": "python",
   "name": "python3"
  },
  "language_info": {
   "codemirror_mode": {
    "name": "ipython",
    "version": 3
   },
   "file_extension": ".py",
   "mimetype": "text/x-python",
   "name": "python",
   "nbconvert_exporter": "python",
   "pygments_lexer": "ipython3",
   "version": "3.9.15"
  },
  "orig_nbformat": 4
 },
 "nbformat": 4,
 "nbformat_minor": 2
}
